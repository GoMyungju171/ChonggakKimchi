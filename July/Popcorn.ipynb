{
 "cells": [
  {
   "cell_type": "code",
   "execution_count": 1,
   "metadata": {},
   "outputs": [
    {
     "name": "stdout",
     "output_type": "stream",
     "text": [
      "Read 25000 labeled train reviews\n",
      ", 25000 labeled test reviews\n",
      ", and 50000 unlabeled reiews\n"
     ]
    }
   ],
   "source": [
    "import pandas as pd\n",
    "train = pd.read_csv( \"labeledTrainData.tsv\", header=0, delimiter=\"\\t\", quoting=3 )\n",
    "test = pd.read_csv( \"testData.tsv\", header=0, delimiter=\"\\t\", quoting=3)\n",
    "unlabeled_train = pd.read_csv( \"unlabeledTrainData.tsv\", header=0, delimiter=\"\\t\", quoting=3 )\n",
    "print(\"Read %d labeled train reviews\\n, %d labeled test reviews\\n, and %d unlabeled reiews\" % (train[\"review\"].size, test[\"review\"].size, unlabeled_train[\"review\"].size))"
   ]
  },
  {
   "cell_type": "code",
   "execution_count": 2,
   "metadata": {},
   "outputs": [],
   "source": [
    "#Import various modules for string cleaning\n",
    "from bs4 import BeautifulSoup\n",
    "import re\n",
    "from nltk.corpus import stopwords\n",
    "def review_to_wordlist(review, remove_stopwords=False):\n",
    "    #문서를 단어들의 집합으로 바꾸는 함수\n",
    "    #선택적으로 stop words를 없애고, 단어의 list를 반환\n",
    "    #1. HTML을 없애기\n",
    "    review_text = BeautifulSoup(review).get_text()\n",
    "    #2. 글자가 아닌 것을 없애기\n",
    "    review_text = re.sub(\"[^a-zA-Z]\", \" \", review_text)\n",
    "    #3. 소문자화하고 나누기\n",
    "    words = review_text.lower().split()\n",
    "    #4. 선택적으로 stop words를 없애기 (기본적으론 False)\n",
    "    if remove_stopwords:\n",
    "        stops = set(stopwords.words(\"english\"))\n",
    "        words = [w for w in words if not w in stops]\n",
    "    #5. 단어 리스트를 반환\n",
    "    return(words)"
   ]
  },
  {
   "cell_type": "code",
   "execution_count": 3,
   "metadata": {},
   "outputs": [
    {
     "name": "stderr",
     "output_type": "stream",
     "text": [
      "[nltk_data] Downloading package punkt to /Users/mongdu/nltk_data...\n",
      "[nltk_data]   Package punkt is already up-to-date!\n"
     ]
    }
   ],
   "source": [
    "import nltk\n",
    "nltk.download('punkt')\n",
    "tokenizer = nltk.data.load('tokenizers/punkt/english.pickle')\n",
    "# 리뷰를 파싱된 문장으로 바꾸기 위한 함수\n",
    "def review_to_sentences(review, tokenizer, remove_stopwords=False):\n",
    "    # 리뷰를 파싱된 문장으로 바꾸기 위한 함수. 문장의 리스트를 반환.\n",
    "    # 각 문장은 단어들의 리스트로 이루어져 있음.\n",
    "    # 1. NLTK tokenizer를 이용해서 단락을 문장으로 바꾼다.\n",
    "    raw_sentences = tokenizer.tokenize(review.strip())\n",
    "    # 2. 각 문장들을 Loop(순환)\n",
    "    sentences = []\n",
    "    for raw_sentence in raw_sentences:\n",
    "        #만약 문장이 비어있으면, 스킵\n",
    "        if len(raw_sentence) > 0:\n",
    "            # 그렇지 않으면, 단어의 리스트를 받아오기 위해서\n",
    "            # review_to_wordlist를 call해옴\n",
    "            sentences.append( review_to_wordlist(raw_sentence,remove_stopwords) )\n",
    "    # 문장의 리스트를 반환(각 문장은 단어 리스트로 이루어져 있음. 즉\n",
    "    # 리스트들의 리스트를 반환하는 것)\n",
    "    return sentences"
   ]
  },
  {
   "cell_type": "code",
   "execution_count": 9,
   "metadata": {
    "scrolled": true
   },
   "outputs": [
    {
     "name": "stdout",
     "output_type": "stream",
     "text": [
      "Parsing sentences from training set\n",
      "Parsing sentences from unlabeled set\n"
     ]
    }
   ],
   "source": [
    "\n",
    "sentences = []\n",
    "print(\"Parsing sentences from training set\")\n",
    "for review in train[\"review\"]:\n",
    "    sentences += review_to_sentences(review, tokenizer, remove_stopwords=False)\n",
    "print(\"Parsing sentences from unlabeled set\")\n",
    "for review in unlabeled_train[\"review\"]:\n",
    "    sentences += review_to_sentences(review, tokenizer, remove_stopwords=False)"
   ]
  },
  {
   "cell_type": "code",
   "execution_count": 10,
   "metadata": {},
   "outputs": [
    {
     "name": "stdout",
     "output_type": "stream",
     "text": [
      "795538\n"
     ]
    }
   ],
   "source": [
    "print(len(sentences))"
   ]
  },
  {
   "cell_type": "code",
   "execution_count": 7,
   "metadata": {},
   "outputs": [
    {
     "name": "stdout",
     "output_type": "stream",
     "text": [
      "['with', 'all', 'this', 'stuff', 'going', 'down', 'at', 'the', 'moment', 'with', 'mj', 'i', 've', 'started', 'listening', 'to', 'his', 'music', 'watching', 'the', 'odd', 'documentary', 'here', 'and', 'there', 'watched', 'the', 'wiz', 'and', 'watched', 'moonwalker', 'again']\n"
     ]
    }
   ],
   "source": [
    "print(sentences[0])"
   ]
  },
  {
   "cell_type": "code",
   "execution_count": 8,
   "metadata": {},
   "outputs": [
    {
     "name": "stdout",
     "output_type": "stream",
     "text": [
      "['maybe', 'i', 'just', 'want', 'to', 'get', 'a', 'certain', 'insight', 'into', 'this', 'guy', 'who', 'i', 'thought', 'was', 'really', 'cool', 'in', 'the', 'eighties', 'just', 'to', 'maybe', 'make', 'up', 'my', 'mind', 'whether', 'he', 'is', 'guilty', 'or', 'innocent']\n"
     ]
    }
   ],
   "source": [
    "print(sentences[1])"
   ]
  },
  {
   "cell_type": "code",
   "execution_count": 11,
   "metadata": {},
   "outputs": [],
   "source": [
    "import logging\n",
    "logging.basicConfig(format='%(asctime)s : %(levelname)s : %(message)s', level=logging.INFO)"
   ]
  },
  {
   "cell_type": "code",
   "execution_count": 12,
   "metadata": {},
   "outputs": [],
   "source": [
    "num_features = 300\n",
    "logging.basicConfig(format='%(asctime)s: %(levelname)s : %(message)s', level=logging.INFO)"
   ]
  },
  {
   "cell_type": "code",
   "execution_count": 21,
   "metadata": {},
   "outputs": [
    {
     "name": "stderr",
     "output_type": "stream",
     "text": [
      "2020-07-25 16:15:07,684 : INFO : collecting all words and their counts\n",
      "2020-07-25 16:15:07,688 : INFO : PROGRESS: at sentence #0, processed 0 words, keeping 0 word types\n",
      "2020-07-25 16:15:07,762 : INFO : PROGRESS: at sentence #10000, processed 225803 words, keeping 17776 word types\n",
      "2020-07-25 16:15:07,825 : INFO : PROGRESS: at sentence #20000, processed 451892 words, keeping 24948 word types\n"
     ]
    },
    {
     "name": "stdout",
     "output_type": "stream",
     "text": [
      "Training model...\n"
     ]
    },
    {
     "name": "stderr",
     "output_type": "stream",
     "text": [
      "2020-07-25 16:15:07,893 : INFO : PROGRESS: at sentence #30000, processed 671315 words, keeping 30034 word types\n",
      "2020-07-25 16:15:07,979 : INFO : PROGRESS: at sentence #40000, processed 897815 words, keeping 34348 word types\n",
      "2020-07-25 16:15:08,038 : INFO : PROGRESS: at sentence #50000, processed 1116963 words, keeping 37761 word types\n",
      "2020-07-25 16:15:08,098 : INFO : PROGRESS: at sentence #60000, processed 1338404 words, keeping 40723 word types\n",
      "2020-07-25 16:15:08,159 : INFO : PROGRESS: at sentence #70000, processed 1561580 words, keeping 43333 word types\n",
      "2020-07-25 16:15:08,219 : INFO : PROGRESS: at sentence #80000, processed 1780887 words, keeping 45714 word types\n",
      "2020-07-25 16:15:08,292 : INFO : PROGRESS: at sentence #90000, processed 2004996 words, keeping 48135 word types\n",
      "2020-07-25 16:15:08,369 : INFO : PROGRESS: at sentence #100000, processed 2226966 words, keeping 50207 word types\n",
      "2020-07-25 16:15:08,446 : INFO : PROGRESS: at sentence #110000, processed 2446580 words, keeping 52081 word types\n",
      "2020-07-25 16:15:08,514 : INFO : PROGRESS: at sentence #120000, processed 2668775 words, keeping 54119 word types\n",
      "2020-07-25 16:15:08,575 : INFO : PROGRESS: at sentence #130000, processed 2894303 words, keeping 55847 word types\n",
      "2020-07-25 16:15:08,634 : INFO : PROGRESS: at sentence #140000, processed 3107005 words, keeping 57346 word types\n",
      "2020-07-25 16:15:08,711 : INFO : PROGRESS: at sentence #150000, processed 3332627 words, keeping 59055 word types\n",
      "2020-07-25 16:15:08,814 : INFO : PROGRESS: at sentence #160000, processed 3555315 words, keeping 60617 word types\n",
      "2020-07-25 16:15:08,905 : INFO : PROGRESS: at sentence #170000, processed 3778655 words, keeping 62077 word types\n",
      "2020-07-25 16:15:08,989 : INFO : PROGRESS: at sentence #180000, processed 3999236 words, keeping 63496 word types\n",
      "2020-07-25 16:15:09,061 : INFO : PROGRESS: at sentence #190000, processed 4224449 words, keeping 64794 word types\n",
      "2020-07-25 16:15:09,131 : INFO : PROGRESS: at sentence #200000, processed 4448603 words, keeping 66087 word types\n",
      "2020-07-25 16:15:09,202 : INFO : PROGRESS: at sentence #210000, processed 4669967 words, keeping 67390 word types\n",
      "2020-07-25 16:15:09,294 : INFO : PROGRESS: at sentence #220000, processed 4894968 words, keeping 68697 word types\n",
      "2020-07-25 16:15:09,389 : INFO : PROGRESS: at sentence #230000, processed 5117545 words, keeping 69958 word types\n",
      "2020-07-25 16:15:09,475 : INFO : PROGRESS: at sentence #240000, processed 5345050 words, keeping 71167 word types\n",
      "2020-07-25 16:15:09,548 : INFO : PROGRESS: at sentence #250000, processed 5559165 words, keeping 72351 word types\n",
      "2020-07-25 16:15:09,618 : INFO : PROGRESS: at sentence #260000, processed 5779146 words, keeping 73478 word types\n",
      "2020-07-25 16:15:09,680 : INFO : PROGRESS: at sentence #270000, processed 6000435 words, keeping 74767 word types\n",
      "2020-07-25 16:15:09,740 : INFO : PROGRESS: at sentence #280000, processed 6226314 words, keeping 76369 word types\n",
      "2020-07-25 16:15:09,801 : INFO : PROGRESS: at sentence #290000, processed 6449474 words, keeping 77839 word types\n",
      "2020-07-25 16:15:09,868 : INFO : PROGRESS: at sentence #300000, processed 6674077 words, keeping 79171 word types\n",
      "2020-07-25 16:15:09,937 : INFO : PROGRESS: at sentence #310000, processed 6899391 words, keeping 80480 word types\n",
      "2020-07-25 16:15:10,003 : INFO : PROGRESS: at sentence #320000, processed 7124278 words, keeping 81808 word types\n",
      "2020-07-25 16:15:10,085 : INFO : PROGRESS: at sentence #330000, processed 7346021 words, keeping 83030 word types\n",
      "2020-07-25 16:15:10,197 : INFO : PROGRESS: at sentence #340000, processed 7575533 words, keeping 84280 word types\n",
      "2020-07-25 16:15:10,266 : INFO : PROGRESS: at sentence #350000, processed 7798803 words, keeping 85425 word types\n",
      "2020-07-25 16:15:10,326 : INFO : PROGRESS: at sentence #360000, processed 8019427 words, keeping 86596 word types\n",
      "2020-07-25 16:15:10,392 : INFO : PROGRESS: at sentence #370000, processed 8246619 words, keeping 87708 word types\n",
      "2020-07-25 16:15:10,452 : INFO : PROGRESS: at sentence #380000, processed 8471766 words, keeping 88878 word types\n",
      "2020-07-25 16:15:10,514 : INFO : PROGRESS: at sentence #390000, processed 8701497 words, keeping 89907 word types\n",
      "2020-07-25 16:15:10,577 : INFO : PROGRESS: at sentence #400000, processed 8924446 words, keeping 90916 word types\n",
      "2020-07-25 16:15:10,654 : INFO : PROGRESS: at sentence #410000, processed 9145796 words, keeping 91880 word types\n",
      "2020-07-25 16:15:10,743 : INFO : PROGRESS: at sentence #420000, processed 9366876 words, keeping 92912 word types\n",
      "2020-07-25 16:15:10,814 : INFO : PROGRESS: at sentence #430000, processed 9594413 words, keeping 93932 word types\n",
      "2020-07-25 16:15:10,876 : INFO : PROGRESS: at sentence #440000, processed 9821166 words, keeping 94906 word types\n",
      "2020-07-25 16:15:10,938 : INFO : PROGRESS: at sentence #450000, processed 10044928 words, keeping 96036 word types\n",
      "2020-07-25 16:15:11,000 : INFO : PROGRESS: at sentence #460000, processed 10277688 words, keeping 97088 word types\n",
      "2020-07-25 16:15:11,062 : INFO : PROGRESS: at sentence #470000, processed 10505613 words, keeping 97933 word types\n",
      "2020-07-25 16:15:11,120 : INFO : PROGRESS: at sentence #480000, processed 10725997 words, keeping 98862 word types\n",
      "2020-07-25 16:15:11,188 : INFO : PROGRESS: at sentence #490000, processed 10952741 words, keeping 99871 word types\n",
      "2020-07-25 16:15:11,248 : INFO : PROGRESS: at sentence #500000, processed 11174397 words, keeping 100765 word types\n",
      "2020-07-25 16:15:11,311 : INFO : PROGRESS: at sentence #510000, processed 11399672 words, keeping 101699 word types\n",
      "2020-07-25 16:15:11,371 : INFO : PROGRESS: at sentence #520000, processed 11623020 words, keeping 102598 word types\n",
      "2020-07-25 16:15:11,433 : INFO : PROGRESS: at sentence #530000, processed 11847418 words, keeping 103400 word types\n",
      "2020-07-25 16:15:11,494 : INFO : PROGRESS: at sentence #540000, processed 12072033 words, keeping 104265 word types\n",
      "2020-07-25 16:15:11,557 : INFO : PROGRESS: at sentence #550000, processed 12297571 words, keeping 105133 word types\n",
      "2020-07-25 16:15:11,617 : INFO : PROGRESS: at sentence #560000, processed 12518861 words, keeping 105997 word types\n",
      "2020-07-25 16:15:11,683 : INFO : PROGRESS: at sentence #570000, processed 12747916 words, keeping 106787 word types\n",
      "2020-07-25 16:15:11,750 : INFO : PROGRESS: at sentence #580000, processed 12969412 words, keeping 107665 word types\n",
      "2020-07-25 16:15:11,814 : INFO : PROGRESS: at sentence #590000, processed 13194937 words, keeping 108501 word types\n",
      "2020-07-25 16:15:11,872 : INFO : PROGRESS: at sentence #600000, processed 13417135 words, keeping 109218 word types\n",
      "2020-07-25 16:15:11,939 : INFO : PROGRESS: at sentence #610000, processed 13638158 words, keeping 110092 word types\n",
      "2020-07-25 16:15:11,999 : INFO : PROGRESS: at sentence #620000, processed 13864483 words, keeping 110837 word types\n",
      "2020-07-25 16:15:12,059 : INFO : PROGRESS: at sentence #630000, processed 14088769 words, keeping 111610 word types\n",
      "2020-07-25 16:15:12,119 : INFO : PROGRESS: at sentence #640000, processed 14309552 words, keeping 112416 word types\n",
      "2020-07-25 16:15:12,220 : INFO : PROGRESS: at sentence #650000, processed 14535308 words, keeping 113196 word types\n",
      "2020-07-25 16:15:12,285 : INFO : PROGRESS: at sentence #660000, processed 14758098 words, keeping 113945 word types\n",
      "2020-07-25 16:15:12,349 : INFO : PROGRESS: at sentence #670000, processed 14981482 words, keeping 114643 word types\n",
      "2020-07-25 16:15:12,413 : INFO : PROGRESS: at sentence #680000, processed 15206314 words, keeping 115354 word types\n",
      "2020-07-25 16:15:12,479 : INFO : PROGRESS: at sentence #690000, processed 15428507 words, keeping 116131 word types\n",
      "2020-07-25 16:15:12,544 : INFO : PROGRESS: at sentence #700000, processed 15657213 words, keeping 116943 word types\n",
      "2020-07-25 16:15:12,606 : INFO : PROGRESS: at sentence #710000, processed 15880202 words, keeping 117596 word types\n",
      "2020-07-25 16:15:12,668 : INFO : PROGRESS: at sentence #720000, processed 16105489 words, keeping 118221 word types\n",
      "2020-07-25 16:15:12,746 : INFO : PROGRESS: at sentence #730000, processed 16331870 words, keeping 118954 word types\n",
      "2020-07-25 16:15:12,823 : INFO : PROGRESS: at sentence #740000, processed 16552903 words, keeping 119668 word types\n",
      "2020-07-25 16:15:12,882 : INFO : PROGRESS: at sentence #750000, processed 16771230 words, keeping 120295 word types\n",
      "2020-07-25 16:15:12,940 : INFO : PROGRESS: at sentence #760000, processed 16990622 words, keeping 120930 word types\n",
      "2020-07-25 16:15:13,002 : INFO : PROGRESS: at sentence #770000, processed 17217759 words, keeping 121703 word types\n",
      "2020-07-25 16:15:13,063 : INFO : PROGRESS: at sentence #780000, processed 17447905 words, keeping 122402 word types\n",
      "2020-07-25 16:15:13,122 : INFO : PROGRESS: at sentence #790000, processed 17674981 words, keeping 123066 word types\n",
      "2020-07-25 16:15:13,159 : INFO : collected 123504 word types from a corpus of 17798082 raw words and 795538 sentences\n",
      "2020-07-25 16:15:13,160 : INFO : Loading a fresh vocabulary\n",
      "2020-07-25 16:15:13,251 : INFO : effective_min_count=40 retains 16490 unique words (13% of original 123504, drops 107014)\n",
      "2020-07-25 16:15:13,252 : INFO : effective_min_count=40 leaves 17238940 word corpus (96% of original 17798082, drops 559142)\n",
      "2020-07-25 16:15:13,316 : INFO : deleting the raw counts dictionary of 123504 items\n",
      "2020-07-25 16:15:13,324 : INFO : sample=0.001 downsamples 48 most-common words\n",
      "2020-07-25 16:15:13,326 : INFO : downsampling leaves estimated 12749658 word corpus (74.0% of prior 17238940)\n",
      "2020-07-25 16:15:13,387 : INFO : estimated required memory for 16490 words and 300 dimensions: 47821000 bytes\n",
      "2020-07-25 16:15:13,388 : INFO : resetting layer weights\n",
      "2020-07-25 16:15:17,309 : INFO : training model with 4 workers on 16490 vocabulary and 300 features, using sg=0 hs=0 sample=0.001 negative=5 window=10\n",
      "2020-07-25 16:15:18,327 : INFO : EPOCH 1 - PROGRESS: at 3.59% examples, 454303 words/s, in_qsize 8, out_qsize 0\n",
      "2020-07-25 16:15:19,354 : INFO : EPOCH 1 - PROGRESS: at 6.74% examples, 421576 words/s, in_qsize 8, out_qsize 2\n",
      "2020-07-25 16:15:20,358 : INFO : EPOCH 1 - PROGRESS: at 10.47% examples, 437574 words/s, in_qsize 7, out_qsize 0\n",
      "2020-07-25 16:15:21,412 : INFO : EPOCH 1 - PROGRESS: at 13.54% examples, 419395 words/s, in_qsize 7, out_qsize 0\n",
      "2020-07-25 16:15:22,414 : INFO : EPOCH 1 - PROGRESS: at 17.59% examples, 436585 words/s, in_qsize 7, out_qsize 0\n",
      "2020-07-25 16:15:23,469 : INFO : EPOCH 1 - PROGRESS: at 20.73% examples, 426719 words/s, in_qsize 6, out_qsize 1\n",
      "2020-07-25 16:15:24,474 : INFO : EPOCH 1 - PROGRESS: at 23.70% examples, 419771 words/s, in_qsize 5, out_qsize 2\n",
      "2020-07-25 16:15:25,482 : INFO : EPOCH 1 - PROGRESS: at 27.63% examples, 429241 words/s, in_qsize 7, out_qsize 0\n",
      "2020-07-25 16:15:26,486 : INFO : EPOCH 1 - PROGRESS: at 31.96% examples, 441393 words/s, in_qsize 8, out_qsize 0\n",
      "2020-07-25 16:15:27,508 : INFO : EPOCH 1 - PROGRESS: at 36.40% examples, 452473 words/s, in_qsize 7, out_qsize 0\n",
      "2020-07-25 16:15:28,518 : INFO : EPOCH 1 - PROGRESS: at 40.74% examples, 461533 words/s, in_qsize 8, out_qsize 0\n",
      "2020-07-25 16:15:29,527 : INFO : EPOCH 1 - PROGRESS: at 45.12% examples, 469087 words/s, in_qsize 8, out_qsize 1\n",
      "2020-07-25 16:15:30,565 : INFO : EPOCH 1 - PROGRESS: at 49.55% examples, 475557 words/s, in_qsize 7, out_qsize 2\n",
      "2020-07-25 16:15:31,573 : INFO : EPOCH 1 - PROGRESS: at 53.88% examples, 480536 words/s, in_qsize 7, out_qsize 0\n",
      "2020-07-25 16:15:32,602 : INFO : EPOCH 1 - PROGRESS: at 57.90% examples, 482285 words/s, in_qsize 7, out_qsize 0\n",
      "2020-07-25 16:15:33,608 : INFO : EPOCH 1 - PROGRESS: at 62.20% examples, 486292 words/s, in_qsize 8, out_qsize 1\n",
      "2020-07-25 16:15:34,616 : INFO : EPOCH 1 - PROGRESS: at 66.69% examples, 491027 words/s, in_qsize 6, out_qsize 1\n",
      "2020-07-25 16:15:35,629 : INFO : EPOCH 1 - PROGRESS: at 70.88% examples, 493202 words/s, in_qsize 8, out_qsize 1\n",
      "2020-07-25 16:15:36,639 : INFO : EPOCH 1 - PROGRESS: at 74.80% examples, 493336 words/s, in_qsize 7, out_qsize 0\n",
      "2020-07-25 16:15:37,652 : INFO : EPOCH 1 - PROGRESS: at 79.17% examples, 496202 words/s, in_qsize 7, out_qsize 0\n",
      "2020-07-25 16:15:38,675 : INFO : EPOCH 1 - PROGRESS: at 83.51% examples, 498210 words/s, in_qsize 8, out_qsize 0\n",
      "2020-07-25 16:15:39,678 : INFO : EPOCH 1 - PROGRESS: at 87.02% examples, 496003 words/s, in_qsize 7, out_qsize 0\n",
      "2020-07-25 16:15:40,696 : INFO : EPOCH 1 - PROGRESS: at 90.71% examples, 494606 words/s, in_qsize 8, out_qsize 0\n",
      "2020-07-25 16:15:41,702 : INFO : EPOCH 1 - PROGRESS: at 94.83% examples, 495620 words/s, in_qsize 7, out_qsize 1\n",
      "2020-07-25 16:15:42,710 : INFO : EPOCH 1 - PROGRESS: at 98.29% examples, 493416 words/s, in_qsize 7, out_qsize 0\n",
      "2020-07-25 16:15:43,143 : INFO : worker thread finished; awaiting finish of 3 more threads\n",
      "2020-07-25 16:15:43,161 : INFO : worker thread finished; awaiting finish of 2 more threads\n",
      "2020-07-25 16:15:43,174 : INFO : worker thread finished; awaiting finish of 1 more threads\n",
      "2020-07-25 16:15:43,189 : INFO : worker thread finished; awaiting finish of 0 more threads\n",
      "2020-07-25 16:15:43,191 : INFO : EPOCH - 1 : training on 17798082 raw words (12749482 effective words) took 25.9s, 492783 effective words/s\n",
      "2020-07-25 16:15:44,261 : INFO : EPOCH 2 - PROGRESS: at 3.53% examples, 429714 words/s, in_qsize 7, out_qsize 0\n",
      "2020-07-25 16:15:45,279 : INFO : EPOCH 2 - PROGRESS: at 7.77% examples, 477161 words/s, in_qsize 6, out_qsize 2\n",
      "2020-07-25 16:15:46,298 : INFO : EPOCH 2 - PROGRESS: at 12.29% examples, 505208 words/s, in_qsize 7, out_qsize 0\n",
      "2020-07-25 16:15:47,329 : INFO : EPOCH 2 - PROGRESS: at 14.78% examples, 455041 words/s, in_qsize 7, out_qsize 0\n",
      "2020-07-25 16:15:48,331 : INFO : EPOCH 2 - PROGRESS: at 17.69% examples, 437241 words/s, in_qsize 8, out_qsize 0\n",
      "2020-07-25 16:15:49,366 : INFO : EPOCH 2 - PROGRESS: at 21.29% examples, 438111 words/s, in_qsize 7, out_qsize 0\n",
      "2020-07-25 16:15:50,369 : INFO : EPOCH 2 - PROGRESS: at 24.83% examples, 439764 words/s, in_qsize 6, out_qsize 1\n",
      "2020-07-25 16:15:51,389 : INFO : EPOCH 2 - PROGRESS: at 28.53% examples, 442548 words/s, in_qsize 6, out_qsize 1\n",
      "2020-07-25 16:15:52,393 : INFO : EPOCH 2 - PROGRESS: at 32.62% examples, 450136 words/s, in_qsize 7, out_qsize 0\n",
      "2020-07-25 16:15:53,395 : INFO : EPOCH 2 - PROGRESS: at 36.45% examples, 453540 words/s, in_qsize 8, out_qsize 1\n",
      "2020-07-25 16:15:54,404 : INFO : EPOCH 2 - PROGRESS: at 40.35% examples, 457408 words/s, in_qsize 7, out_qsize 0\n",
      "2020-07-25 16:15:55,405 : INFO : EPOCH 2 - PROGRESS: at 44.44% examples, 462681 words/s, in_qsize 7, out_qsize 0\n",
      "2020-07-25 16:15:56,426 : INFO : EPOCH 2 - PROGRESS: at 48.39% examples, 465341 words/s, in_qsize 7, out_qsize 0\n",
      "2020-07-25 16:15:57,434 : INFO : EPOCH 2 - PROGRESS: at 52.49% examples, 469091 words/s, in_qsize 7, out_qsize 0\n",
      "2020-07-25 16:15:58,434 : INFO : EPOCH 2 - PROGRESS: at 55.94% examples, 467383 words/s, in_qsize 8, out_qsize 1\n",
      "2020-07-25 16:15:59,441 : INFO : EPOCH 2 - PROGRESS: at 59.95% examples, 470550 words/s, in_qsize 7, out_qsize 0\n",
      "2020-07-25 16:16:00,450 : INFO : EPOCH 2 - PROGRESS: at 64.33% examples, 475368 words/s, in_qsize 7, out_qsize 0\n",
      "2020-07-25 16:16:01,458 : INFO : EPOCH 2 - PROGRESS: at 68.67% examples, 479280 words/s, in_qsize 8, out_qsize 1\n",
      "2020-07-25 16:16:02,462 : INFO : EPOCH 2 - PROGRESS: at 72.95% examples, 482894 words/s, in_qsize 6, out_qsize 1\n",
      "2020-07-25 16:16:03,493 : INFO : EPOCH 2 - PROGRESS: at 77.21% examples, 485150 words/s, in_qsize 7, out_qsize 0\n",
      "2020-07-25 16:16:04,531 : INFO : EPOCH 2 - PROGRESS: at 80.53% examples, 481307 words/s, in_qsize 8, out_qsize 0\n",
      "2020-07-25 16:16:05,559 : INFO : EPOCH 2 - PROGRESS: at 84.29% examples, 480606 words/s, in_qsize 5, out_qsize 2\n",
      "2020-07-25 16:16:06,560 : INFO : EPOCH 2 - PROGRESS: at 88.52% examples, 483294 words/s, in_qsize 7, out_qsize 0\n",
      "2020-07-25 16:16:07,565 : INFO : EPOCH 2 - PROGRESS: at 92.04% examples, 481871 words/s, in_qsize 7, out_qsize 1\n",
      "2020-07-25 16:16:08,583 : INFO : EPOCH 2 - PROGRESS: at 96.31% examples, 483667 words/s, in_qsize 8, out_qsize 0\n",
      "2020-07-25 16:16:09,427 : INFO : worker thread finished; awaiting finish of 3 more threads\n",
      "2020-07-25 16:16:09,433 : INFO : worker thread finished; awaiting finish of 2 more threads\n",
      "2020-07-25 16:16:09,449 : INFO : worker thread finished; awaiting finish of 1 more threads\n",
      "2020-07-25 16:16:09,460 : INFO : worker thread finished; awaiting finish of 0 more threads\n",
      "2020-07-25 16:16:09,461 : INFO : EPOCH - 2 : training on 17798082 raw words (12750033 effective words) took 26.2s, 485733 effective words/s\n",
      "2020-07-25 16:16:10,498 : INFO : EPOCH 3 - PROGRESS: at 3.60% examples, 447246 words/s, in_qsize 7, out_qsize 1\n",
      "2020-07-25 16:16:11,508 : INFO : EPOCH 3 - PROGRESS: at 7.42% examples, 464082 words/s, in_qsize 7, out_qsize 0\n",
      "2020-07-25 16:16:12,509 : INFO : EPOCH 3 - PROGRESS: at 11.67% examples, 487796 words/s, in_qsize 8, out_qsize 0\n",
      "2020-07-25 16:16:13,512 : INFO : EPOCH 3 - PROGRESS: at 15.84% examples, 497988 words/s, in_qsize 7, out_qsize 0\n",
      "2020-07-25 16:16:14,513 : INFO : EPOCH 3 - PROGRESS: at 19.60% examples, 492526 words/s, in_qsize 7, out_qsize 0\n",
      "2020-07-25 16:16:15,515 : INFO : EPOCH 3 - PROGRESS: at 23.88% examples, 500931 words/s, in_qsize 7, out_qsize 0\n",
      "2020-07-25 16:16:16,533 : INFO : EPOCH 3 - PROGRESS: at 28.08% examples, 504579 words/s, in_qsize 7, out_qsize 1\n",
      "2020-07-25 16:16:17,562 : INFO : EPOCH 3 - PROGRESS: at 32.34% examples, 506555 words/s, in_qsize 6, out_qsize 1\n",
      "2020-07-25 16:16:18,562 : INFO : EPOCH 3 - PROGRESS: at 36.73% examples, 512160 words/s, in_qsize 7, out_qsize 0\n",
      "2020-07-25 16:16:19,577 : INFO : EPOCH 3 - PROGRESS: at 40.86% examples, 513113 words/s, in_qsize 8, out_qsize 0\n",
      "2020-07-25 16:16:20,586 : INFO : EPOCH 3 - PROGRESS: at 45.06% examples, 514860 words/s, in_qsize 6, out_qsize 1\n",
      "2020-07-25 16:16:21,592 : INFO : EPOCH 3 - PROGRESS: at 49.33% examples, 517550 words/s, in_qsize 8, out_qsize 0\n",
      "2020-07-25 16:16:22,593 : INFO : EPOCH 3 - PROGRESS: at 53.61% examples, 519501 words/s, in_qsize 7, out_qsize 0\n",
      "2020-07-25 16:16:23,608 : INFO : EPOCH 3 - PROGRESS: at 57.79% examples, 520596 words/s, in_qsize 8, out_qsize 2\n",
      "2020-07-25 16:16:24,630 : INFO : EPOCH 3 - PROGRESS: at 62.14% examples, 522314 words/s, in_qsize 8, out_qsize 0\n",
      "2020-07-25 16:16:25,674 : INFO : EPOCH 3 - PROGRESS: at 66.39% examples, 522198 words/s, in_qsize 8, out_qsize 2\n",
      "2020-07-25 16:16:26,675 : INFO : EPOCH 3 - PROGRESS: at 70.77% examples, 524303 words/s, in_qsize 7, out_qsize 0\n",
      "2020-07-25 16:16:27,712 : INFO : EPOCH 3 - PROGRESS: at 75.08% examples, 524688 words/s, in_qsize 6, out_qsize 1\n",
      "2020-07-25 16:16:28,747 : INFO : EPOCH 3 - PROGRESS: at 79.63% examples, 526569 words/s, in_qsize 7, out_qsize 0\n",
      "2020-07-25 16:16:29,753 : INFO : EPOCH 3 - PROGRESS: at 84.01% examples, 527964 words/s, in_qsize 7, out_qsize 0\n",
      "2020-07-25 16:16:30,767 : INFO : EPOCH 3 - PROGRESS: at 88.34% examples, 529027 words/s, in_qsize 8, out_qsize 1\n",
      "2020-07-25 16:16:31,771 : INFO : EPOCH 3 - PROGRESS: at 92.68% examples, 529904 words/s, in_qsize 7, out_qsize 0\n",
      "2020-07-25 16:16:32,798 : INFO : EPOCH 3 - PROGRESS: at 97.07% examples, 530475 words/s, in_qsize 8, out_qsize 0\n",
      "2020-07-25 16:16:33,632 : INFO : worker thread finished; awaiting finish of 3 more threads\n",
      "2020-07-25 16:16:33,642 : INFO : worker thread finished; awaiting finish of 2 more threads\n",
      "2020-07-25 16:16:33,685 : INFO : worker thread finished; awaiting finish of 1 more threads\n",
      "2020-07-25 16:16:33,689 : INFO : worker thread finished; awaiting finish of 0 more threads\n",
      "2020-07-25 16:16:33,691 : INFO : EPOCH - 3 : training on 17798082 raw words (12751559 effective words) took 24.2s, 526559 effective words/s\n",
      "2020-07-25 16:16:34,706 : INFO : EPOCH 4 - PROGRESS: at 3.65% examples, 464773 words/s, in_qsize 7, out_qsize 0\n",
      "2020-07-25 16:16:35,713 : INFO : EPOCH 4 - PROGRESS: at 7.71% examples, 487810 words/s, in_qsize 7, out_qsize 0\n",
      "2020-07-25 16:16:36,715 : INFO : EPOCH 4 - PROGRESS: at 11.44% examples, 482238 words/s, in_qsize 7, out_qsize 0\n",
      "2020-07-25 16:16:37,722 : INFO : EPOCH 4 - PROGRESS: at 15.73% examples, 496880 words/s, in_qsize 6, out_qsize 1\n",
      "2020-07-25 16:16:38,724 : INFO : EPOCH 4 - PROGRESS: at 20.11% examples, 507378 words/s, in_qsize 7, out_qsize 0\n",
      "2020-07-25 16:16:39,726 : INFO : EPOCH 4 - PROGRESS: at 24.38% examples, 513288 words/s, in_qsize 7, out_qsize 0\n",
      "2020-07-25 16:16:40,730 : INFO : EPOCH 4 - PROGRESS: at 28.76% examples, 519250 words/s, in_qsize 7, out_qsize 0\n",
      "2020-07-25 16:16:41,751 : INFO : EPOCH 4 - PROGRESS: at 33.09% examples, 520862 words/s, in_qsize 8, out_qsize 1\n",
      "2020-07-25 16:16:42,751 : INFO : EPOCH 4 - PROGRESS: at 37.51% examples, 525719 words/s, in_qsize 7, out_qsize 0\n",
      "2020-07-25 16:16:43,758 : INFO : EPOCH 4 - PROGRESS: at 41.86% examples, 528550 words/s, in_qsize 7, out_qsize 0\n",
      "2020-07-25 16:16:44,773 : INFO : EPOCH 4 - PROGRESS: at 45.83% examples, 525906 words/s, in_qsize 6, out_qsize 1\n",
      "2020-07-25 16:16:45,812 : INFO : EPOCH 4 - PROGRESS: at 49.43% examples, 519198 words/s, in_qsize 7, out_qsize 1\n",
      "2020-07-25 16:16:46,820 : INFO : EPOCH 4 - PROGRESS: at 53.77% examples, 521280 words/s, in_qsize 8, out_qsize 0\n",
      "2020-07-25 16:16:47,838 : INFO : EPOCH 4 - PROGRESS: at 57.52% examples, 518099 words/s, in_qsize 8, out_qsize 0\n",
      "2020-07-25 16:16:48,861 : INFO : EPOCH 4 - PROGRESS: at 61.70% examples, 518564 words/s, in_qsize 7, out_qsize 0\n",
      "2020-07-25 16:16:49,878 : INFO : EPOCH 4 - PROGRESS: at 65.79% examples, 518254 words/s, in_qsize 7, out_qsize 0\n",
      "2020-07-25 16:16:50,880 : INFO : EPOCH 4 - PROGRESS: at 69.82% examples, 518004 words/s, in_qsize 7, out_qsize 0\n",
      "2020-07-25 16:16:51,884 : INFO : EPOCH 4 - PROGRESS: at 73.96% examples, 518524 words/s, in_qsize 7, out_qsize 0\n",
      "2020-07-25 16:16:52,885 : INFO : EPOCH 4 - PROGRESS: at 78.10% examples, 519054 words/s, in_qsize 7, out_qsize 0\n",
      "2020-07-25 16:16:53,908 : INFO : EPOCH 4 - PROGRESS: at 82.21% examples, 518619 words/s, in_qsize 7, out_qsize 2\n",
      "2020-07-25 16:16:54,930 : INFO : EPOCH 4 - PROGRESS: at 86.53% examples, 519592 words/s, in_qsize 6, out_qsize 1\n",
      "2020-07-25 16:16:55,930 : INFO : EPOCH 4 - PROGRESS: at 90.77% examples, 520672 words/s, in_qsize 8, out_qsize 0\n",
      "2020-07-25 16:16:56,936 : INFO : EPOCH 4 - PROGRESS: at 94.94% examples, 520938 words/s, in_qsize 7, out_qsize 0\n",
      "2020-07-25 16:16:57,950 : INFO : EPOCH 4 - PROGRESS: at 98.95% examples, 520409 words/s, in_qsize 7, out_qsize 0\n",
      "2020-07-25 16:16:58,171 : INFO : worker thread finished; awaiting finish of 3 more threads\n",
      "2020-07-25 16:16:58,173 : INFO : worker thread finished; awaiting finish of 2 more threads\n",
      "2020-07-25 16:16:58,190 : INFO : worker thread finished; awaiting finish of 1 more threads\n",
      "2020-07-25 16:16:58,191 : INFO : worker thread finished; awaiting finish of 0 more threads\n",
      "2020-07-25 16:16:58,192 : INFO : EPOCH - 4 : training on 17798082 raw words (12751685 effective words) took 24.5s, 520787 effective words/s\n",
      "2020-07-25 16:16:59,226 : INFO : EPOCH 5 - PROGRESS: at 4.04% examples, 510206 words/s, in_qsize 8, out_qsize 2\n",
      "2020-07-25 16:17:00,241 : INFO : EPOCH 5 - PROGRESS: at 8.28% examples, 519064 words/s, in_qsize 8, out_qsize 1\n",
      "2020-07-25 16:17:01,246 : INFO : EPOCH 5 - PROGRESS: at 12.51% examples, 523970 words/s, in_qsize 6, out_qsize 1\n",
      "2020-07-25 16:17:02,250 : INFO : EPOCH 5 - PROGRESS: at 16.67% examples, 523087 words/s, in_qsize 8, out_qsize 2\n",
      "2020-07-25 16:17:03,295 : INFO : EPOCH 5 - PROGRESS: at 21.07% examples, 525326 words/s, in_qsize 8, out_qsize 1\n",
      "2020-07-25 16:17:04,335 : INFO : EPOCH 5 - PROGRESS: at 25.39% examples, 526072 words/s, in_qsize 7, out_qsize 1\n",
      "2020-07-25 16:17:05,359 : INFO : EPOCH 5 - PROGRESS: at 29.76% examples, 528727 words/s, in_qsize 6, out_qsize 1\n",
      "2020-07-25 16:17:06,370 : INFO : EPOCH 5 - PROGRESS: at 33.83% examples, 525299 words/s, in_qsize 8, out_qsize 1\n",
      "2020-07-25 16:17:07,372 : INFO : EPOCH 5 - PROGRESS: at 37.34% examples, 517008 words/s, in_qsize 8, out_qsize 0\n",
      "2020-07-25 16:17:08,374 : INFO : EPOCH 5 - PROGRESS: at 41.27% examples, 515275 words/s, in_qsize 7, out_qsize 0\n",
      "2020-07-25 16:17:09,385 : INFO : EPOCH 5 - PROGRESS: at 45.17% examples, 513441 words/s, in_qsize 8, out_qsize 1\n",
      "2020-07-25 16:17:10,389 : INFO : EPOCH 5 - PROGRESS: at 49.38% examples, 515795 words/s, in_qsize 6, out_qsize 1\n",
      "2020-07-25 16:17:11,389 : INFO : EPOCH 5 - PROGRESS: at 53.55% examples, 516781 words/s, in_qsize 8, out_qsize 0\n",
      "2020-07-25 16:17:12,390 : INFO : EPOCH 5 - PROGRESS: at 57.73% examples, 518576 words/s, in_qsize 7, out_qsize 0\n",
      "2020-07-25 16:17:13,397 : INFO : EPOCH 5 - PROGRESS: at 62.03% examples, 520447 words/s, in_qsize 8, out_qsize 0\n",
      "2020-07-25 16:17:14,415 : INFO : EPOCH 5 - PROGRESS: at 66.45% examples, 522625 words/s, in_qsize 7, out_qsize 0\n",
      "2020-07-25 16:17:15,420 : INFO : EPOCH 5 - PROGRESS: at 70.71% examples, 523698 words/s, in_qsize 7, out_qsize 0\n",
      "2020-07-25 16:17:16,429 : INFO : EPOCH 5 - PROGRESS: at 75.02% examples, 524933 words/s, in_qsize 7, out_qsize 0\n",
      "2020-07-25 16:17:17,437 : INFO : EPOCH 5 - PROGRESS: at 78.67% examples, 521579 words/s, in_qsize 7, out_qsize 0\n",
      "2020-07-25 16:17:18,455 : INFO : EPOCH 5 - PROGRESS: at 82.27% examples, 517961 words/s, in_qsize 8, out_qsize 0\n",
      "2020-07-25 16:17:19,484 : INFO : EPOCH 5 - PROGRESS: at 86.30% examples, 517125 words/s, in_qsize 6, out_qsize 1\n",
      "2020-07-25 16:17:20,514 : INFO : EPOCH 5 - PROGRESS: at 90.60% examples, 517908 words/s, in_qsize 8, out_qsize 1\n",
      "2020-07-25 16:17:21,521 : INFO : EPOCH 5 - PROGRESS: at 94.60% examples, 517316 words/s, in_qsize 7, out_qsize 0\n",
      "2020-07-25 16:17:22,523 : INFO : EPOCH 5 - PROGRESS: at 98.66% examples, 517498 words/s, in_qsize 6, out_qsize 1\n",
      "2020-07-25 16:17:22,771 : INFO : worker thread finished; awaiting finish of 3 more threads\n",
      "2020-07-25 16:17:22,793 : INFO : worker thread finished; awaiting finish of 2 more threads\n",
      "2020-07-25 16:17:22,811 : INFO : worker thread finished; awaiting finish of 1 more threads\n",
      "2020-07-25 16:17:22,824 : INFO : worker thread finished; awaiting finish of 0 more threads\n",
      "2020-07-25 16:17:22,825 : INFO : EPOCH - 5 : training on 17798082 raw words (12749641 effective words) took 24.6s, 518096 effective words/s\n",
      "2020-07-25 16:17:22,826 : INFO : training on a 88990410 raw words (63752400 effective words) took 125.5s, 507940 effective words/s\n"
     ]
    },
    {
     "ename": "NameError",
     "evalue": "name 'Word2Vec' is not defined",
     "output_type": "error",
     "traceback": [
      "\u001b[0;31m---------------------------------------------------------------------------\u001b[0m",
      "\u001b[0;31mNameError\u001b[0m                                 Traceback (most recent call last)",
      "\u001b[0;32m<ipython-input-21-9dc1a8328db8>\u001b[0m in \u001b[0;36m<module>\u001b[0;34m\u001b[0m\n\u001b[1;32m      7\u001b[0m \u001b[0mprint\u001b[0m\u001b[0;34m(\u001b[0m\u001b[0;34m\"Training model...\"\u001b[0m\u001b[0;34m)\u001b[0m\u001b[0;34m\u001b[0m\u001b[0;34m\u001b[0m\u001b[0m\n\u001b[1;32m      8\u001b[0m \u001b[0mmodel\u001b[0m \u001b[0;34m=\u001b[0m \u001b[0mword2vec\u001b[0m\u001b[0;34m.\u001b[0m\u001b[0mWord2Vec\u001b[0m\u001b[0;34m(\u001b[0m\u001b[0msentences\u001b[0m\u001b[0;34m,\u001b[0m \u001b[0mworkers\u001b[0m\u001b[0;34m=\u001b[0m\u001b[0mnum_workers\u001b[0m\u001b[0;34m,\u001b[0m \u001b[0msize\u001b[0m \u001b[0;34m=\u001b[0m \u001b[0mnum_features\u001b[0m\u001b[0;34m,\u001b[0m \u001b[0mmin_count\u001b[0m\u001b[0;34m=\u001b[0m\u001b[0mmin_word_count\u001b[0m\u001b[0;34m,\u001b[0m \u001b[0mwindow\u001b[0m \u001b[0;34m=\u001b[0m \u001b[0mcontext\u001b[0m\u001b[0;34m,\u001b[0m \u001b[0msample\u001b[0m \u001b[0;34m=\u001b[0m \u001b[0mdownsampling\u001b[0m\u001b[0;34m)\u001b[0m\u001b[0;34m\u001b[0m\u001b[0;34m\u001b[0m\u001b[0m\n\u001b[0;32m----> 9\u001b[0;31m \u001b[0mWord2Vec\u001b[0m\u001b[0;34m.\u001b[0m\u001b[0mload\u001b[0m\u001b[0;34m(\u001b[0m\u001b[0;34m)\u001b[0m\u001b[0;34m\u001b[0m\u001b[0;34m\u001b[0m\u001b[0m\n\u001b[0m\u001b[1;32m     10\u001b[0m \u001b[0mmodel_name\u001b[0m \u001b[0;34m=\u001b[0m \u001b[0;34m\"300features_40minwords_10context\"\u001b[0m\u001b[0;34m\u001b[0m\u001b[0;34m\u001b[0m\u001b[0m\n\u001b[1;32m     11\u001b[0m \u001b[0mmodel\u001b[0m\u001b[0;34m.\u001b[0m\u001b[0msave\u001b[0m\u001b[0;34m(\u001b[0m\u001b[0mmodel_name\u001b[0m\u001b[0;34m)\u001b[0m\u001b[0;34m\u001b[0m\u001b[0;34m\u001b[0m\u001b[0m\n",
      "\u001b[0;31mNameError\u001b[0m: name 'Word2Vec' is not defined"
     ]
    }
   ],
   "source": [
    "num_features = 300\n",
    "min_word_count = 40\n",
    "num_workers = 4\n",
    "context = 10\n",
    "downsampling = 1e-3\n",
    "from gensim.models import word2vec\n",
    "print(\"Training model...\")\n",
    "model = word2vec.Word2Vec(sentences, workers=num_workers, size = num_features, min_count=min_word_count, window = context, sample = downsampling)\n",
    "Word2Vec.load()\n",
    "model_name = \"300features_40minwords_10context\"\n",
    "model.save(model_name)"
   ]
  },
  {
   "cell_type": "code",
   "execution_count": 22,
   "metadata": {},
   "outputs": [
    {
     "name": "stderr",
     "output_type": "stream",
     "text": [
      "/opt/anaconda3/lib/python3.7/site-packages/ipykernel_launcher.py:1: DeprecationWarning: Call to deprecated `doesnt_match` (Method will be removed in 4.0.0, use self.wv.doesnt_match() instead).\n",
      "  \"\"\"Entry point for launching an IPython kernel.\n",
      "2020-07-25 16:18:55,182 : INFO : precomputing L2-norms of word weight vectors\n",
      "/opt/anaconda3/lib/python3.7/site-packages/gensim/models/keyedvectors.py:877: FutureWarning: arrays to stack must be passed as a \"sequence\" type such as list or tuple. Support for non-sequence iterables such as generators is deprecated as of NumPy 1.16 and will raise an error in the future.\n",
      "  vectors = vstack(self.word_vec(word, use_norm=True) for word in used_words).astype(REAL)\n"
     ]
    },
    {
     "data": {
      "text/plain": [
       "'kitchen'"
      ]
     },
     "execution_count": 22,
     "metadata": {},
     "output_type": "execute_result"
    }
   ],
   "source": [
    "model.doesnt_match(\"man woman child kitchen\".split())"
   ]
  },
  {
   "cell_type": "code",
   "execution_count": 23,
   "metadata": {},
   "outputs": [
    {
     "name": "stderr",
     "output_type": "stream",
     "text": [
      "/opt/anaconda3/lib/python3.7/site-packages/ipykernel_launcher.py:1: DeprecationWarning: Call to deprecated `doesnt_match` (Method will be removed in 4.0.0, use self.wv.doesnt_match() instead).\n",
      "  \"\"\"Entry point for launching an IPython kernel.\n"
     ]
    },
    {
     "data": {
      "text/plain": [
       "'paris'"
      ]
     },
     "execution_count": 23,
     "metadata": {},
     "output_type": "execute_result"
    }
   ],
   "source": [
    "model.doesnt_match(\"paris berlin london austria\".split())\n",
    "'paris'"
   ]
  },
  {
   "cell_type": "code",
   "execution_count": 25,
   "metadata": {},
   "outputs": [
    {
     "name": "stderr",
     "output_type": "stream",
     "text": [
      "/opt/anaconda3/lib/python3.7/site-packages/ipykernel_launcher.py:1: DeprecationWarning: Call to deprecated `most_similar` (Method will be removed in 4.0.0, use self.wv.most_similar() instead).\n",
      "  \"\"\"Entry point for launching an IPython kernel.\n"
     ]
    },
    {
     "data": {
      "text/plain": [
       "[('beer', 0.7703843712806702),\n",
       " ('lunch', 0.6994674801826477),\n",
       " ('drink', 0.6896820664405823),\n",
       " ('kitchen', 0.678272008895874),\n",
       " ('bottle', 0.6762230396270752),\n",
       " ('soda', 0.6750398874282837),\n",
       " ('wine', 0.6666887998580933),\n",
       " ('shopping', 0.6614474654197693),\n",
       " ('shop', 0.6610244512557983),\n",
       " ('pot', 0.6606205701828003)]"
      ]
     },
     "execution_count": 25,
     "metadata": {},
     "output_type": "execute_result"
    }
   ],
   "source": [
    "model.most_similar(\"coffee\")"
   ]
  },
  {
   "cell_type": "code",
   "execution_count": null,
   "metadata": {},
   "outputs": [],
   "source": []
  }
 ],
 "metadata": {
  "kernelspec": {
   "display_name": "Python 3",
   "language": "python",
   "name": "python3"
  },
  "language_info": {
   "codemirror_mode": {
    "name": "ipython",
    "version": 3
   },
   "file_extension": ".py",
   "mimetype": "text/x-python",
   "name": "python",
   "nbconvert_exporter": "python",
   "pygments_lexer": "ipython3",
   "version": "3.7.6"
  }
 },
 "nbformat": 4,
 "nbformat_minor": 4
}
